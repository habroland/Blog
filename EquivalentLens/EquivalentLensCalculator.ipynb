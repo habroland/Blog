{
  "nbformat": 4,
  "nbformat_minor": 0,
  "metadata": {
    "colab": {
      "name": "EquivalentLensCalculator.ipynb",
      "provenance": [],
      "include_colab_link": true
    },
    "kernelspec": {
      "display_name": "Python 3",
      "language": "python",
      "name": "python3"
    },
    "language_info": {
      "codemirror_mode": {
        "name": "ipython",
        "version": 3
      },
      "file_extension": ".py",
      "mimetype": "text/x-python",
      "name": "python",
      "nbconvert_exporter": "python",
      "pygments_lexer": "ipython3",
      "version": "3.7.6"
    }
  },
  "cells": [
    {
      "cell_type": "markdown",
      "metadata": {
        "id": "view-in-github",
        "colab_type": "text"
      },
      "source": [
        "<a href=\"https://colab.research.google.com/github/habroland/Blog/blob/master/EquivalentLens/EquivalentLensCalculator.ipynb\" target=\"_parent\"><img src=\"https://colab.research.google.com/assets/colab-badge.svg\" alt=\"Open In Colab\"/></a>"
      ]
    },
    {
      "cell_type": "markdown",
      "metadata": {
        "id": "tNpvzktXCgR2"
      },
      "source": [
        "Equivalent-lens system for an array of lenses. Check this <a href=\"https://underthemath.wordpress.com/2020/05/31/equivalent-lens-system/\">blog</a> for details."
      ]
    },
    {
      "cell_type": "markdown",
      "metadata": {
        "id": "1oz3z5_BGrhd"
      },
      "source": [
        "# Functions"
      ]
    },
    {
      "cell_type": "code",
      "metadata": {
        "id": "30OpdGK0BcVL"
      },
      "source": [
        "def equivSingleLens_2lenses(f1,d12,f2):\n",
        "    \"\"\" Calculates the equivalent single-lens system for an array of two lenses\n",
        "\n",
        "    Arguments: (f1)---d12--->(f2)\n",
        "    f1: Focal length of the first lens\n",
        "    d12: Distance between the lenses\n",
        "    f2: Focal length of second lens\n",
        "\n",
        "    Returns: ---df--->(feff)---db--->\n",
        "    df: Front distance\n",
        "    feff: Effective focal length\n",
        "    db: Back distance\n",
        "\n",
        "    \"\"\"\n",
        "    df = (d12*f1)/(f1+f2-d12)\n",
        "    feff = (f2*f1)/(f1+f2-d12)\n",
        "    db = (d12*f2)/(f1+f2-d12)\n",
        "\n",
        "    return df, feff, db\n",
        "\n",
        "def equivSingleLens(fls,ds):\n",
        "    \"\"\" Calculates the equivalent single-lens system for an array of lenses\n",
        "\n",
        "    Arguments:\n",
        "    fls: List of N focal lengths\n",
        "    ds: List of N-1 distances, each one between lenses f_i and f_(i+1)\n",
        "\n",
        "    Returns: Dictionary\n",
        "    df: Front distance\n",
        "    feff: Effective focal length\n",
        "    db: Back distance\n",
        "\n",
        "    \"\"\"\n",
        "    assert(len(fls) == len(ds)+1)\n",
        "\n",
        "    df = 0\n",
        "    feff = fls[0]\n",
        "    db = 0\n",
        "    for i in range(len(ds)):\n",
        "        df_temp, feff, db = equivSingleLens_2lenses(feff,db+ds[i],fls[i+1])\n",
        "        df += df_temp\n",
        "\n",
        "    return {\"df\":df, \"feff\":feff, \"db\":db}"
      ],
      "execution_count": 1,
      "outputs": []
    },
    {
      "cell_type": "markdown",
      "metadata": {
        "id": "qJo7WEgJHA56"
      },
      "source": [
        "# Results"
      ]
    },
    {
      "cell_type": "code",
      "metadata": {
        "id": "zwDaqs5ZBcVe"
      },
      "source": [
        "from sympy import *\n",
        "init_printing()"
      ],
      "execution_count": 2,
      "outputs": []
    },
    {
      "cell_type": "markdown",
      "metadata": {
        "id": "THIgTeK0HODA"
      },
      "source": [
        "## Variables\n",
        "\n",
        "Four lenses, and the distances between consecutive pairs\n",
        "\n",
        "(F1)---D12--->(F2)---D23--->(F3)---D34--->(F4)"
      ]
    },
    {
      "cell_type": "code",
      "metadata": {
        "id": "cJmCMYQGDSAL"
      },
      "source": [
        "F1, F2, F3, F4 = symbols('F1 F2 F3 F4')\n",
        "D12, D23, D34 = symbols('D12 D23 D34')"
      ],
      "execution_count": 3,
      "outputs": []
    },
    {
      "cell_type": "markdown",
      "metadata": {
        "id": "GdpmdwxRHn5s"
      },
      "source": [
        "## Subsection to test the functions"
      ]
    },
    {
      "cell_type": "code",
      "metadata": {
        "id": "no_oKZ5YDwJ3",
        "colab": {
          "base_uri": "https://localhost:8080/",
          "height": 58
        },
        "outputId": "6b9c8e63-38f2-4e33-d2ba-ef8433587404"
      },
      "source": [
        "equivSingleLens_2lenses(F1,D12,F2)"
      ],
      "execution_count": 4,
      "outputs": [
        {
          "output_type": "execute_result",
          "data": {
            "text/plain": [
              "⎛    D₁₂⋅F₁          F₁⋅F₂           D₁₂⋅F₂    ⎞\n",
              "⎜──────────────, ──────────────, ──────────────⎟\n",
              "⎝-D₁₂ + F₁ + F₂  -D₁₂ + F₁ + F₂  -D₁₂ + F₁ + F₂⎠"
            ],
            "text/latex": "$\\displaystyle \\left( \\frac{D_{12} F_{1}}{- D_{12} + F_{1} + F_{2}}, \\  \\frac{F_{1} F_{2}}{- D_{12} + F_{1} + F_{2}}, \\  \\frac{D_{12} F_{2}}{- D_{12} + F_{1} + F_{2}}\\right)$"
          },
          "metadata": {},
          "execution_count": 4
        }
      ]
    },
    {
      "cell_type": "code",
      "metadata": {
        "id": "-sbMkoHiD8zK",
        "colab": {
          "base_uri": "https://localhost:8080/"
        },
        "outputId": "22fba7d4-b756-40f9-ddd2-eceadc34504e"
      },
      "source": [
        "equivSingleLens([F1,F2],[D12])"
      ],
      "execution_count": 5,
      "outputs": [
        {
          "output_type": "execute_result",
          "data": {
            "text/plain": [
              "{'df': D12*F1/(-D12 + F1 + F2),\n",
              " 'feff': F1*F2/(-D12 + F1 + F2),\n",
              " 'db': D12*F2/(-D12 + F1 + F2)}"
            ]
          },
          "metadata": {},
          "execution_count": 5
        }
      ]
    },
    {
      "cell_type": "code",
      "source": [
        "doublet = equivSingleLens([F1,F2],[D12]) # https://realpython.com/iterate-through-dictionary-python/\n",
        "for key in doublet:\n",
        "  print(key, \"->\", doublet[key].subs({F1:-50, F2:100, D12:60}))"
      ],
      "metadata": {
        "id": "lhMqL_sHp-Mf",
        "outputId": "f6e8c6de-9b70-4e53-a6c6-205e138b4336",
        "colab": {
          "base_uri": "https://localhost:8080/"
        }
      },
      "execution_count": 6,
      "outputs": [
        {
          "output_type": "stream",
          "name": "stdout",
          "text": [
            "df -> 300\n",
            "feff -> 500\n",
            "db -> -600\n"
          ]
        }
      ]
    },
    {
      "cell_type": "code",
      "metadata": {
        "id": "JgrukHfGJKQs",
        "colab": {
          "base_uri": "https://localhost:8080/",
          "height": 54
        },
        "outputId": "748a25e0-e82b-44de-a831-291bf625cfa5"
      },
      "source": [
        "# Compute 1/f2L\n",
        "expand(simplify(1/(equivSingleLens([F1,F2],[D12])['feff'])))"
      ],
      "execution_count": 7,
      "outputs": [
        {
          "output_type": "execute_result",
          "data": {
            "text/plain": [
              "   D₁₂    1    1 \n",
              "- ───── + ── + ──\n",
              "  F₁⋅F₂   F₂   F₁"
            ],
            "text/latex": "$\\displaystyle - \\frac{D_{12}}{F_{1} F_{2}} + \\frac{1}{F_{2}} + \\frac{1}{F_{1}}$"
          },
          "metadata": {},
          "execution_count": 7
        }
      ]
    },
    {
      "cell_type": "markdown",
      "metadata": {
        "id": "VtA5w-iYIvSR"
      },
      "source": [
        "## Compute df3, f3L and db3. Notice the pattern. Compute 1/f3L for my blog"
      ]
    },
    {
      "cell_type": "code",
      "source": [
        "simplify(equivSingleLens([F1,F2,F3],[D12,D23])['df'])"
      ],
      "metadata": {
        "id": "IBB2YGAzayIe",
        "outputId": "0c23166d-2bd1-4e6b-e02f-c81525eb7af6",
        "colab": {
          "base_uri": "https://localhost:8080/",
          "height": 55
        }
      },
      "execution_count": 16,
      "outputs": [
        {
          "output_type": "execute_result",
          "data": {
            "text/plain": [
              "              F₁⋅(-D₁₂⋅D₂₃ + D₁₂⋅F₂ + D₁₂⋅F₃ + D₂₃⋅F₂)             \n",
              "───────────────────────────────────────────────────────────────────\n",
              "D₁₂⋅D₂₃ - D₁₂⋅F₂ - D₁₂⋅F₃ - D₂₃⋅F₁ - D₂₃⋅F₂ + F₁⋅F₂ + F₁⋅F₃ + F₂⋅F₃"
            ],
            "text/latex": "$\\displaystyle \\frac{F_{1} \\left(- D_{12} D_{23} + D_{12} F_{2} + D_{12} F_{3} + D_{23} F_{2}\\right)}{D_{12} D_{23} - D_{12} F_{2} - D_{12} F_{3} - D_{23} F_{1} - D_{23} F_{2} + F_{1} F_{2} + F_{1} F_{3} + F_{2} F_{3}}$"
          },
          "metadata": {},
          "execution_count": 16
        }
      ]
    },
    {
      "cell_type": "code",
      "source": [
        "expand(simplify(equivSingleLens([F1,F2,F3],[D12,D23])['feff']))"
      ],
      "metadata": {
        "id": "PCKKqJqfaTDU",
        "outputId": "198fb2f6-2ab1-456c-b88a-44e0826fdaf1",
        "colab": {
          "base_uri": "https://localhost:8080/",
          "height": 54
        }
      },
      "execution_count": 13,
      "outputs": [
        {
          "output_type": "execute_result",
          "data": {
            "text/plain": [
              "                             -F₁⋅F₂⋅F₃                              \n",
              "────────────────────────────────────────────────────────────────────\n",
              "-D₁₂⋅D₂₃ + D₁₂⋅F₂ + D₁₂⋅F₃ + D₂₃⋅F₁ + D₂₃⋅F₂ - F₁⋅F₂ - F₁⋅F₃ - F₂⋅F₃"
            ],
            "text/latex": "$\\displaystyle - \\frac{F_{1} F_{2} F_{3}}{- D_{12} D_{23} + D_{12} F_{2} + D_{12} F_{3} + D_{23} F_{1} + D_{23} F_{2} - F_{1} F_{2} - F_{1} F_{3} - F_{2} F_{3}}$"
          },
          "metadata": {},
          "execution_count": 13
        }
      ]
    },
    {
      "cell_type": "code",
      "source": [
        "simplify(expand(equivSingleLens([F1,F2,F3],[D12,D23])['db']))"
      ],
      "metadata": {
        "id": "SlKd0VvabARB",
        "outputId": "dd6092f8-c1f0-4c51-ccfb-e173b45b81b8",
        "colab": {
          "base_uri": "https://localhost:8080/",
          "height": 55
        }
      },
      "execution_count": 19,
      "outputs": [
        {
          "output_type": "execute_result",
          "data": {
            "text/plain": [
              "              F₃⋅(-D₁₂⋅D₂₃ + D₁₂⋅F₂ + D₂₃⋅F₁ + D₂₃⋅F₂)             \n",
              "───────────────────────────────────────────────────────────────────\n",
              "D₁₂⋅D₂₃ - D₁₂⋅F₂ - D₁₂⋅F₃ - D₂₃⋅F₁ - D₂₃⋅F₂ + F₁⋅F₂ + F₁⋅F₃ + F₂⋅F₃"
            ],
            "text/latex": "$\\displaystyle \\frac{F_{3} \\left(- D_{12} D_{23} + D_{12} F_{2} + D_{23} F_{1} + D_{23} F_{2}\\right)}{D_{12} D_{23} - D_{12} F_{2} - D_{12} F_{3} - D_{23} F_{1} - D_{23} F_{2} + F_{1} F_{2} + F_{1} F_{3} + F_{2} F_{3}}$"
          },
          "metadata": {},
          "execution_count": 19
        }
      ]
    },
    {
      "cell_type": "code",
      "metadata": {
        "id": "FxBEr5yeEDMy",
        "colab": {
          "base_uri": "https://localhost:8080/",
          "height": 54
        },
        "outputId": "d032c507-9b0e-4c58-fd89-b50447f97537"
      },
      "source": [
        "expand(simplify(1/(equivSingleLens([F1,F2,F3],[D12,D23])['feff'])))"
      ],
      "execution_count": null,
      "outputs": [
        {
          "output_type": "execute_result",
          "data": {
            "text/plain": [
              "D₁₂⋅D₂₃     D₁₂     D₁₂     D₂₃     D₂₃    1    1    1 \n",
              "──────── - ───── - ───── - ───── - ───── + ── + ── + ──\n",
              "F₁⋅F₂⋅F₃   F₁⋅F₃   F₁⋅F₂   F₂⋅F₃   F₁⋅F₃   F₃   F₂   F₁"
            ],
            "text/latex": "$\\displaystyle \\frac{D_{12} D_{23}}{F_{1} F_{2} F_{3}} - \\frac{D_{12}}{F_{1} F_{3}} - \\frac{D_{12}}{F_{1} F_{2}} - \\frac{D_{23}}{F_{2} F_{3}} - \\frac{D_{23}}{F_{1} F_{3}} + \\frac{1}{F_{3}} + \\frac{1}{F_{2}} + \\frac{1}{F_{1}}$"
          },
          "metadata": {},
          "execution_count": 8
        }
      ]
    },
    {
      "cell_type": "markdown",
      "source": [
        "### Compute equivalent lens parameters in a mirrored system and compare with original\n",
        "Both cases have the same effective focal length. The back distance of one case becomes the front distance of the mirrored instance, as expected.\n",
        "\n",
        "(F1)---D12--->(F2)---D23--->(F3)\n",
        "\n",
        "vs\n",
        "\n",
        "(F3)---D23--->(F2)---D21--->(F1)\n",
        "\n",
        "From a general math perspective, this symmetric behaviour is not granted, because matrix multiplication is not commutative, but it works for RTMs"
      ],
      "metadata": {
        "id": "045K5bF121tR"
      }
    },
    {
      "cell_type": "code",
      "source": [
        "f3L = simplify(equivSingleLens([F1,F2,F3],[D12,D23])['feff'])\n",
        "f3L_mir = simplify(equivSingleLens([F3,F2,F1],[D23,D12])['feff'])\n",
        "simplify(f3L - f3L_mir)"
      ],
      "metadata": {
        "id": "OCXVxkujqml3",
        "outputId": "c311c245-9b41-4573-9c17-0b36fc983607",
        "colab": {
          "base_uri": "https://localhost:8080/",
          "height": 37
        }
      },
      "execution_count": null,
      "outputs": [
        {
          "output_type": "execute_result",
          "data": {
            "text/plain": [
              "0"
            ],
            "text/latex": "$\\displaystyle 0$"
          },
          "metadata": {},
          "execution_count": 5
        }
      ]
    },
    {
      "cell_type": "code",
      "source": [
        "df3L = simplify(equivSingleLens([F1,F2,F3],[D12,D23])['df'])\n",
        "db3L_mir = simplify(equivSingleLens([F3,F2,F1],[D23,D12])['db'])\n",
        "simplify(df3L - db3L_mir)"
      ],
      "metadata": {
        "id": "EG86pskD3Y0u",
        "outputId": "82d3b023-530d-44b6-c6a4-51c9b64640b2",
        "colab": {
          "base_uri": "https://localhost:8080/",
          "height": 37
        }
      },
      "execution_count": null,
      "outputs": [
        {
          "output_type": "execute_result",
          "data": {
            "text/plain": [
              "0"
            ],
            "text/latex": "$\\displaystyle 0$"
          },
          "metadata": {},
          "execution_count": 6
        }
      ]
    },
    {
      "cell_type": "code",
      "source": [
        "db3L = simplify(equivSingleLens([F1,F2,F3],[D12,D23])['db'])\n",
        "df3L_mir = simplify(equivSingleLens([F3,F2,F1],[D23,D12])['df'])\n",
        "simplify(db3L - df3L_mir)"
      ],
      "metadata": {
        "id": "MCO9BTkw3e_W",
        "outputId": "11d25f7f-3a05-4d30-ac09-b077b99104c9",
        "colab": {
          "base_uri": "https://localhost:8080/",
          "height": 37
        }
      },
      "execution_count": null,
      "outputs": [
        {
          "output_type": "execute_result",
          "data": {
            "text/plain": [
              "0"
            ],
            "text/latex": "$\\displaystyle 0$"
          },
          "metadata": {},
          "execution_count": 7
        }
      ]
    },
    {
      "cell_type": "markdown",
      "metadata": {
        "id": "CMt4kzi3I8wb"
      },
      "source": [
        "## Compute 1/f4L"
      ]
    },
    {
      "cell_type": "markdown",
      "source": [
        "My code does the following, each step is bold:\n",
        "\n",
        "for-loop step 1:\n",
        "\n",
        "**(F1)---D12--->(F2)**---D23--->(F3)---D34--->(F4)\n",
        "\n",
        "**---DF12--->(F12)---DB12--->**---D23--->(F3)---D34--->(F4)\n",
        "\n",
        "for-loop step 2:\n",
        "\n",
        "---DF12--->**(F12)---DB12--->---D23--->(F3)**---D34--->(F4)\n",
        "\n",
        "---DF12--->**---DF123--->(F123)---DB123--->**---D34--->(F4)\n",
        "\n",
        "for-loop step 3:\n",
        "\n",
        "---DF12--->---DF123--->**(F123)---DB123--->---D34--->(F4)**\n",
        "\n",
        "---DF12--->---DF123--->**---DF1234--->(F1234)---DB1234--->**"
      ],
      "metadata": {
        "id": "pIzaJuz1uzY0"
      }
    },
    {
      "cell_type": "code",
      "metadata": {
        "id": "4YWAKk3yEOFg",
        "colab": {
          "base_uri": "https://localhost:8080/",
          "height": 91
        },
        "outputId": "da13d421-a8ba-4642-d14f-124bc5d23e32"
      },
      "source": [
        "f4L_inv=expand(simplify(1/(equivSingleLens([F1,F2,F3,F4],[D12,D23,D34])['feff'])))\n",
        "f4L_inv"
      ],
      "execution_count": null,
      "outputs": [
        {
          "output_type": "execute_result",
          "data": {
            "text/plain": [
              "  D₁₂⋅D₂₃⋅D₃₄   D₁₂⋅D₂₃    D₁₂⋅D₂₃    D₁₂⋅D₃₄    D₁₂⋅D₃₄     D₁₂     D₁₂     D\n",
              "- ─────────── + ──────── + ──────── + ──────── + ──────── - ───── - ───── - ──\n",
              "  F₁⋅F₂⋅F₃⋅F₄   F₁⋅F₂⋅F₄   F₁⋅F₂⋅F₃   F₁⋅F₃⋅F₄   F₁⋅F₂⋅F₄   F₁⋅F₄   F₁⋅F₃   F₁\n",
              "\n",
              "₁₂    D₂₃⋅D₃₄    D₂₃⋅D₃₄     D₂₃     D₂₃     D₂₃     D₂₃     D₃₄     D₃₄     D\n",
              "─── + ──────── + ──────── - ───── - ───── - ───── - ───── - ───── - ───── - ──\n",
              "⋅F₂   F₂⋅F₃⋅F₄   F₁⋅F₃⋅F₄   F₂⋅F₄   F₂⋅F₃   F₁⋅F₄   F₁⋅F₃   F₃⋅F₄   F₂⋅F₄   F₁\n",
              "\n",
              "₃₄    1    1    1    1 \n",
              "─── + ── + ── + ── + ──\n",
              "⋅F₄   F₄   F₃   F₂   F₁"
            ],
            "text/latex": "$\\displaystyle - \\frac{D_{12} D_{23} D_{34}}{F_{1} F_{2} F_{3} F_{4}} + \\frac{D_{12} D_{23}}{F_{1} F_{2} F_{4}} + \\frac{D_{12} D_{23}}{F_{1} F_{2} F_{3}} + \\frac{D_{12} D_{34}}{F_{1} F_{3} F_{4}} + \\frac{D_{12} D_{34}}{F_{1} F_{2} F_{4}} - \\frac{D_{12}}{F_{1} F_{4}} - \\frac{D_{12}}{F_{1} F_{3}} - \\frac{D_{12}}{F_{1} F_{2}} + \\frac{D_{23} D_{34}}{F_{2} F_{3} F_{4}} + \\frac{D_{23} D_{34}}{F_{1} F_{3} F_{4}} - \\frac{D_{23}}{F_{2} F_{4}} - \\frac{D_{23}}{F_{2} F_{3}} - \\frac{D_{23}}{F_{1} F_{4}} - \\frac{D_{23}}{F_{1} F_{3}} - \\frac{D_{34}}{F_{3} F_{4}} - \\frac{D_{34}}{F_{2} F_{4}} - \\frac{D_{34}}{F_{1} F_{4}} + \\frac{1}{F_{4}} + \\frac{1}{F_{3}} + \\frac{1}{F_{2}} + \\frac{1}{F_{1}}$"
          },
          "metadata": {},
          "execution_count": 9
        }
      ]
    },
    {
      "cell_type": "markdown",
      "metadata": {
        "id": "pc0LA_rtJvA4"
      },
      "source": [
        "Do you see a pattern?\n",
        "The last terms are the reciprocals of each focal length. The first term is the product of the distances divided by the product of the focal lengths, with a minus sign for an even number of lenses\n",
        "\n",
        "Do you see a symmetry?\n",
        "If you mirror the lens system, then you will get the same value. To mirror the system simply flip F1 with F4, F2 with F3, and D12 with D34."
      ]
    },
    {
      "cell_type": "markdown",
      "metadata": {
        "id": "MwLdIMaklIiU"
      },
      "source": [
        "### Compute 1/f4L in a different way\n",
        "\n",
        "The first two and the last two lenses can be separately substituted by their equivalent lens system. The resulting two equivalent lenses with the corresponding separation can be once again merged into one effective lens, as given in the formula of the blog post.\n",
        "\n",
        "**(F1)---D12--->(F2)**  ---D23---> **(F3)---D34--->(F4)**\n",
        "\n",
        "**(Feff12)---DB12--->** ---D23---> **---DF34--->(Feff34)**\n",
        "\n",
        "(Feff1234)"
      ]
    },
    {
      "cell_type": "code",
      "metadata": {
        "id": "hkqdzC1RKoyQ",
        "colab": {
          "base_uri": "https://localhost:8080/",
          "height": 91
        },
        "outputId": "39313e2c-89a2-417a-8337-da320a9ad6d0"
      },
      "source": [
        "_, Feff12, DB12 = equivSingleLens_2lenses(F1,D12,F2)\n",
        "DF34, Feff34, _ = equivSingleLens_2lenses(F3,D34,F4)\n",
        "_, Feff1234, _ = equivSingleLens_2lenses(Feff12,DB12+D23+DF34,Feff34)\n",
        "expand(simplify(1/Feff1234))"
      ],
      "execution_count": null,
      "outputs": [
        {
          "output_type": "execute_result",
          "data": {
            "text/plain": [
              "  D₁₂⋅D₂₃⋅D₃₄   D₁₂⋅D₂₃    D₁₂⋅D₂₃    D₁₂⋅D₃₄    D₁₂⋅D₃₄     D₁₂     D₁₂     D\n",
              "- ─────────── + ──────── + ──────── + ──────── + ──────── - ───── - ───── - ──\n",
              "  F₁⋅F₂⋅F₃⋅F₄   F₁⋅F₂⋅F₄   F₁⋅F₂⋅F₃   F₁⋅F₃⋅F₄   F₁⋅F₂⋅F₄   F₁⋅F₄   F₁⋅F₃   F₁\n",
              "\n",
              "₁₂    D₂₃⋅D₃₄    D₂₃⋅D₃₄     D₂₃     D₂₃     D₂₃     D₂₃     D₃₄     D₃₄     D\n",
              "─── + ──────── + ──────── - ───── - ───── - ───── - ───── - ───── - ───── - ──\n",
              "⋅F₂   F₂⋅F₃⋅F₄   F₁⋅F₃⋅F₄   F₂⋅F₄   F₂⋅F₃   F₁⋅F₄   F₁⋅F₃   F₃⋅F₄   F₂⋅F₄   F₁\n",
              "\n",
              "₃₄    1    1    1    1 \n",
              "─── + ── + ── + ── + ──\n",
              "⋅F₄   F₄   F₃   F₂   F₁"
            ],
            "text/latex": "$\\displaystyle - \\frac{D_{12} D_{23} D_{34}}{F_{1} F_{2} F_{3} F_{4}} + \\frac{D_{12} D_{23}}{F_{1} F_{2} F_{4}} + \\frac{D_{12} D_{23}}{F_{1} F_{2} F_{3}} + \\frac{D_{12} D_{34}}{F_{1} F_{3} F_{4}} + \\frac{D_{12} D_{34}}{F_{1} F_{2} F_{4}} - \\frac{D_{12}}{F_{1} F_{4}} - \\frac{D_{12}}{F_{1} F_{3}} - \\frac{D_{12}}{F_{1} F_{2}} + \\frac{D_{23} D_{34}}{F_{2} F_{3} F_{4}} + \\frac{D_{23} D_{34}}{F_{1} F_{3} F_{4}} - \\frac{D_{23}}{F_{2} F_{4}} - \\frac{D_{23}}{F_{2} F_{3}} - \\frac{D_{23}}{F_{1} F_{4}} - \\frac{D_{23}}{F_{1} F_{3}} - \\frac{D_{34}}{F_{3} F_{4}} - \\frac{D_{34}}{F_{2} F_{4}} - \\frac{D_{34}}{F_{1} F_{4}} + \\frac{1}{F_{4}} + \\frac{1}{F_{3}} + \\frac{1}{F_{2}} + \\frac{1}{F_{1}}$"
          },
          "metadata": {},
          "execution_count": 10
        }
      ]
    },
    {
      "cell_type": "markdown",
      "metadata": {
        "id": "qKjMEfCDmCWc"
      },
      "source": [
        "Make sure the two expressions are the same."
      ]
    },
    {
      "cell_type": "code",
      "metadata": {
        "id": "jqAMAhQ2j9Wu",
        "colab": {
          "base_uri": "https://localhost:8080/",
          "height": 37
        },
        "outputId": "08b00547-140a-47cf-fa8a-6e20c57f2a6a"
      },
      "source": [
        "simplify(f4L_inv - 1/Feff1234)"
      ],
      "execution_count": null,
      "outputs": [
        {
          "output_type": "execute_result",
          "data": {
            "text/plain": [
              "0"
            ],
            "text/latex": "$\\displaystyle 0$"
          },
          "metadata": {},
          "execution_count": 11
        }
      ]
    },
    {
      "cell_type": "markdown",
      "metadata": {
        "id": "hcdmi_5mMzAo"
      },
      "source": [
        "# Numerical examples"
      ]
    },
    {
      "cell_type": "markdown",
      "metadata": {
        "id": "pvKd-f3cNGMf"
      },
      "source": [
        "You have to use consistent units for all parameters"
      ]
    },
    {
      "cell_type": "markdown",
      "metadata": {
        "id": "qRsbQGZ1QtrC"
      },
      "source": [
        "db can be larger than the effective focal length feff. In this case, an incident collimated beam would have a focal point that can't be accessed physically because the back working distance (BWD=feff-db) would be negative, i.e., you will generate a virtual image."
      ]
    },
    {
      "cell_type": "code",
      "metadata": {
        "id": "dAdtrtjbk0iN",
        "colab": {
          "base_uri": "https://localhost:8080/",
          "height": 55
        },
        "outputId": "1d89c39a-0f94-4df9-d4d8-2fd483c66492"
      },
      "source": [
        "InaccessibleFocalP=equivSingleLens([100,50,75,150],[10,15,20])\n",
        "print(InaccessibleFocalP)\n",
        "InaccessibleFocalP['feff']-InaccessibleFocalP['db']"
      ],
      "execution_count": null,
      "outputs": [
        {
          "output_type": "stream",
          "name": "stdout",
          "text": [
            "{'df': 21.43241787829833, 'feff': 30.290791599353792, 'db': 36.59127625201939}\n"
          ]
        },
        {
          "output_type": "execute_result",
          "data": {
            "text/plain": [
              "-6.300484652665599"
            ],
            "image/png": "[encoded data removed]",
            "text/latex": "$\\displaystyle -6.3004846526656$"
          },
          "metadata": {},
          "execution_count": 12
        }
      ]
    },
    {
      "cell_type": "markdown",
      "metadata": {
        "id": "YuAJRW9MRuiV"
      },
      "source": [
        "Any parameter can be negative. In the equivalent system, a free-space propagation distance can be a negative value. This is effectively the same as a leap backwards from the beam propagation direction. Nevertheless, note that, for a collimated input beam, the focal point could be physically accessible, i.e., form a real image. This could be surprising if the effective focal length happens to be negative because we are used to the intuition that actual diverging lenses generate a virtual image."
      ]
    },
    {
      "cell_type": "code",
      "metadata": {
        "id": "WsclZ-wxNhJo",
        "colab": {
          "base_uri": "https://localhost:8080/",
          "height": 55
        },
        "outputId": "d4fc95e1-2738-4732-9485-436f7dc5ee1d"
      },
      "source": [
        "NegProp=equivSingleLens([250,10],[270])\n",
        "print(NegProp)\n",
        "NegProp['feff']-NegProp['db']"
      ],
      "execution_count": null,
      "outputs": [
        {
          "output_type": "stream",
          "name": "stdout",
          "text": [
            "{'df': -6750.0, 'feff': -250.0, 'db': -270.0}\n"
          ]
        },
        {
          "output_type": "execute_result",
          "data": {
            "text/plain": [
              "20.0"
            ],
            "image/png": "[encoded data removed]",
            "text/latex": "$\\displaystyle 20.0$"
          },
          "metadata": {},
          "execution_count": 14
        }
      ]
    },
    {
      "cell_type": "markdown",
      "metadata": {
        "id": "K4qcsk0yDZbu"
      },
      "source": [
        "#Concatenated telescopes\n",
        "\n",
        "Three lenses with telescope condition between them. \"eps\" is a dummy variable to avoid infinities in the symbolic calculation. It should be set to 0 at the end.\n",
        "\n",
        "This special case can be easily worked out without the use of matrix mechanics, by simply looking at the behavior of a collimated beam at the input, and at the output.\n",
        "\n",
        "(F1)---F1+F2--->(F2)---F2+F3--->(F3)"
      ]
    },
    {
      "cell_type": "code",
      "metadata": {
        "id": "iUFuefpxDpa0"
      },
      "source": [
        "eps = symbols('eps')"
      ],
      "execution_count": null,
      "outputs": []
    },
    {
      "cell_type": "code",
      "metadata": {
        "id": "rkWT-DEnuaEF",
        "colab": {
          "base_uri": "https://localhost:8080/",
          "height": 40
        },
        "outputId": "7aaef509-cad8-41e9-cb2f-f41ad692ed8c"
      },
      "source": [
        "expand(simplify((equivSingleLens([F1,F2,F3],[F1+F2+eps,F2+F3+eps])['feff']))).subs(eps,0)"
      ],
      "execution_count": null,
      "outputs": [
        {
          "output_type": "execute_result",
          "data": {
            "image/png": "[encoded data removed]",
            "text/latex": "$$- \\frac{F_{1} F_{3}}{F_{2}}$$",
            "text/plain": [
              "-F₁⋅F₃ \n",
              "───────\n",
              "   F₂  "
            ]
          },
          "metadata": {
            "tags": []
          },
          "execution_count": 6
        }
      ]
    },
    {
      "cell_type": "code",
      "metadata": {
        "id": "eLKWSKsvxA_3",
        "outputId": "9ab91d0d-4d0b-4604-83c9-d1b28ed36b71",
        "colab": {
          "base_uri": "https://localhost:8080/",
          "height": 54
        }
      },
      "source": [
        "expand(simplify((equivSingleLens([F1,F2,F3],[F1+F2+eps,F2+F3+eps])['df']))).subs(eps,0)"
      ],
      "execution_count": null,
      "outputs": [
        {
          "output_type": "execute_result",
          "data": {
            "text/plain": [
              "      F₁⋅F₃\n",
              "-F₁ - ─────\n",
              "        F₂ "
            ],
            "text/latex": "$\\displaystyle - F_{1} - \\frac{F_{1} F_{3}}{F_{2}}$"
          },
          "metadata": {},
          "execution_count": 6
        }
      ]
    },
    {
      "cell_type": "code",
      "metadata": {
        "id": "_46TtRaRvN-X",
        "outputId": "d0bfe396-bf9e-4571-98cf-d132e9af21d5",
        "colab": {
          "base_uri": "https://localhost:8080/",
          "height": 40
        }
      },
      "source": [
        "expand(simplify((equivSingleLens([F1,F2,F3],[F1+F2+eps,F2+F3+eps])['db']))).subs(eps,0)"
      ],
      "execution_count": null,
      "outputs": [
        {
          "output_type": "execute_result",
          "data": {
            "image/png": "[encoded data removed]",
            "text/latex": "$$- \\frac{F_{1} F_{3}}{F_{2}} - F_{3}$$",
            "text/plain": [
              "  F₁⋅F₃     \n",
              "- ───── - F₃\n",
              "    F₂      "
            ]
          },
          "metadata": {
            "tags": []
          },
          "execution_count": 8
        }
      ]
    },
    {
      "cell_type": "markdown",
      "source": [
        "How robust is a telescope image if the lenses F1 and F2 are not perfectly distanced by F1 + F2?\n",
        "\n",
        "(F1)---F1+F2+eps--->(F2)---D23--->(F3)\n",
        "\n",
        "Note below how the effective focal length and the front distance are stable to first order if D23 = F2 + F3. Also, the back distance becomes partially more stable under this condition"
      ],
      "metadata": {
        "id": "V2YzkPL-yAwg"
      }
    },
    {
      "cell_type": "code",
      "metadata": {
        "id": "-F59nNh8vN8d",
        "outputId": "25d7c811-df59-4131-9399-fcdc4517b913",
        "colab": {
          "base_uri": "https://localhost:8080/",
          "height": 57
        }
      },
      "source": [
        "diff(expand(simplify((equivSingleLens([F1,F2,F3],[F1+F2+eps,D23])['feff']))),eps).subs(eps,0)"
      ],
      "execution_count": null,
      "outputs": [
        {
          "output_type": "execute_result",
          "data": {
            "text/plain": [
              "F₁⋅F₃⋅(-D₂₃ + F₂ + F₃)\n",
              "──────────────────────\n",
              "           3          \n",
              "         F₂           "
            ],
            "text/latex": "$\\displaystyle \\frac{F_{1} F_{3} \\left(- D_{23} + F_{2} + F_{3}\\right)}{F_{2}^{3}}$"
          },
          "metadata": {},
          "execution_count": 9
        }
      ]
    },
    {
      "cell_type": "code",
      "metadata": {
        "id": "DrjuL3IZvN4X",
        "outputId": "d3422b42-bede-4f9b-9cc4-238da8f1b3b9",
        "colab": {
          "base_uri": "https://localhost:8080/",
          "height": 57
        }
      },
      "source": [
        "simplify(diff(expand(simplify((equivSingleLens([F1,F2,F3],[F1+F2+eps,D23])['df']))),eps).subs(eps,0))"
      ],
      "execution_count": null,
      "outputs": [
        {
          "output_type": "execute_result",
          "data": {
            "text/plain": [
              "F₁⋅(F₁⋅(-D₂₃ + F₃) + F₂⋅(F₁ + F₃))⋅(-D₂₃ + F₂ + F₃)\n",
              "───────────────────────────────────────────────────\n",
              "                          4                        \n",
              "                        F₂                         "
            ],
            "text/latex": "$\\displaystyle \\frac{F_{1} \\left(F_{1} \\left(- D_{23} + F_{3}\\right) + F_{2} \\left(F_{1} + F_{3}\\right)\\right) \\left(- D_{23} + F_{2} + F_{3}\\right)}{F_{2}^{4}}$"
          },
          "metadata": {},
          "execution_count": 8
        }
      ]
    },
    {
      "cell_type": "code",
      "source": [
        "simplify(diff(expand(simplify((equivSingleLens([F1,F2,F3],[F1+F2+eps,D23])['db']))),eps)).subs(eps,0)"
      ],
      "metadata": {
        "id": "yF9l2xktx7nK",
        "outputId": "bfbc82ef-ea79-4f9f-89a0-fa09dea792ea",
        "colab": {
          "base_uri": "https://localhost:8080/",
          "height": 60
        }
      },
      "execution_count": null,
      "outputs": [
        {
          "output_type": "execute_result",
          "data": {
            "text/plain": [
              "   ⎛  2              ⎛          2⎞                 ⎞\n",
              "F₃⋅⎝F₂ ⋅(D₂₃ - F₂) + ⎝F₁⋅F₂ + F₂ ⎠⋅(-D₂₃ + F₂ + F₃)⎠\n",
              "────────────────────────────────────────────────────\n",
              "                          4                         \n",
              "                        F₂                          "
            ],
            "text/latex": "$\\displaystyle \\frac{F_{3} \\left(F_{2}^{2} \\left(D_{23} - F_{2}\\right) + \\left(F_{1} F_{2} + F_{2}^{2}\\right) \\left(- D_{23} + F_{2} + F_{3}\\right)\\right)}{F_{2}^{4}}$"
          },
          "metadata": {},
          "execution_count": 9
        }
      ]
    },
    {
      "cell_type": "code",
      "source": [],
      "metadata": {
        "id": "KOTREqSTx83a"
      },
      "execution_count": null,
      "outputs": []
    }
  ]
}