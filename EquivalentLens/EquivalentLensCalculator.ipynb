{
  "nbformat": 4,
  "nbformat_minor": 0,
  "metadata": {
    "colab": {
      "name": "EquivalentLensCalculator.ipynb",
      "provenance": [],
      "include_colab_link": true
    },
    "kernelspec": {
      "display_name": "Python 3",
      "language": "python",
      "name": "python3"
    },
    "language_info": {
      "codemirror_mode": {
        "name": "ipython",
        "version": 3
      },
      "file_extension": ".py",
      "mimetype": "text/x-python",
      "name": "python",
      "nbconvert_exporter": "python",
      "pygments_lexer": "ipython3",
      "version": "3.7.6"
    }
  },
  "cells": [
    {
      "cell_type": "markdown",
      "metadata": {
        "id": "view-in-github",
        "colab_type": "text"
      },
      "source": [
        "<a href=\"https://colab.research.google.com/github/habroland/Blog/blob/master/EquivalentLens/EquivalentLensCalculator.ipynb\" target=\"_parent\"><img src=\"https://colab.research.google.com/assets/colab-badge.svg\" alt=\"Open In Colab\"/></a>"
      ]
    },
    {
      "cell_type": "markdown",
      "metadata": {
        "id": "tNpvzktXCgR2"
      },
      "source": [
        "Equivalent-lens system for an array of lenses. Check this <a href=\"https://underthemath.wordpress.com/2020/05/31/equivalent-lens-system/\">blog</a> for details."
      ]
    },
    {
      "cell_type": "markdown",
      "metadata": {
        "id": "1oz3z5_BGrhd"
      },
      "source": [
        "# Functions"
      ]
    },
    {
      "cell_type": "code",
      "metadata": {
        "id": "30OpdGK0BcVL"
      },
      "source": [
        "def equivSingleLens_2lenses(f1,d12,f2):\n",
        "    \"\"\" Calculates the equivalent single-lens system for an array of two lenses\n",
        "    \n",
        "    Arguments:\n",
        "    f1: Focal length of the first lens\n",
        "    d12: Distance between the lenses\n",
        "    f2: Focal length of second lens\n",
        "    \n",
        "    Returns:\n",
        "    df: Front distance\n",
        "    feff: Effective focal length\n",
        "    db: Back distance\n",
        "    \n",
        "    \"\"\"\n",
        "    df = (d12*f1)/(f1+f2-d12)\n",
        "    feff = (f2*f1)/(f1+f2-d12)\n",
        "    db = (d12*f2)/(f1+f2-d12)\n",
        "    \n",
        "    return df, feff, db\n",
        "\n",
        "def equivSingleLens(fls,ds):\n",
        "    \"\"\" Calculates the equivalent single-lens system for an array of lenses\n",
        "    \n",
        "    Arguments:\n",
        "    fls: List of N focal lengths\n",
        "    ds: List of N-1 distances, each one between lenses f_i and f_(i+1)\n",
        "    \n",
        "    Returns: Dictionary\n",
        "    df: Front distance\n",
        "    feff: Effective focal length\n",
        "    db: Back distance\n",
        "    \n",
        "    \"\"\"\n",
        "    assert(len(fls) == len(ds)+1)\n",
        "    \n",
        "    df = 0\n",
        "    feff = fls[0]\n",
        "    db = 0\n",
        "    for i in range(len(ds)):\n",
        "        df_temp, feff, db = equivSingleLens_2lenses(feff,db+ds[i],fls[i+1])\n",
        "        df += df_temp\n",
        "    \n",
        "    return {\"df\":df, \"feff\":feff, \"db\":db}"
      ],
      "execution_count": 1,
      "outputs": []
    },
    {
      "cell_type": "markdown",
      "metadata": {
        "id": "qJo7WEgJHA56"
      },
      "source": [
        "# Results"
      ]
    },
    {
      "cell_type": "code",
      "metadata": {
        "id": "zwDaqs5ZBcVe"
      },
      "source": [
        "from sympy import *\n",
        "init_printing()"
      ],
      "execution_count": 2,
      "outputs": []
    },
    {
      "cell_type": "markdown",
      "metadata": {
        "id": "THIgTeK0HODA"
      },
      "source": [
        "## Variables\n",
        "\n",
        "Four lenses, and the distances between consecutive pairs"
      ]
    },
    {
      "cell_type": "code",
      "metadata": {
        "id": "cJmCMYQGDSAL"
      },
      "source": [
        "F1, F2, F3, F4 = symbols('F1 F2 F3 F4')\n",
        "D12, D23, D34 = symbols('D12 D23 D34')"
      ],
      "execution_count": 3,
      "outputs": []
    },
    {
      "cell_type": "markdown",
      "metadata": {
        "id": "GdpmdwxRHn5s"
      },
      "source": [
        "## Testing functions"
      ]
    },
    {
      "cell_type": "code",
      "metadata": {
        "id": "no_oKZ5YDwJ3",
        "colab": {
          "base_uri": "https://localhost:8080/",
          "height": 48
        },
        "outputId": "5bd3f8f4-a884-4c90-aad8-7a03c5c0b7c4"
      },
      "source": [
        "equivSingleLens_2lenses(F1,D12,F2)"
      ],
      "execution_count": 4,
      "outputs": [
        {
          "output_type": "execute_result",
          "data": {
            "image/png": "[encoded data removed]",
            "text/latex": "$$\\left ( \\frac{D_{12} F_{1}}{- D_{12} + F_{1} + F_{2}}, \\quad \\frac{F_{1} F_{2}}{- D_{12} + F_{1} + F_{2}}, \\quad \\frac{D_{12} F_{2}}{- D_{12} + F_{1} + F_{2}}\\right )$$",
            "text/plain": [
              "⎛    D₁₂⋅F₁          F₁⋅F₂           D₁₂⋅F₂    ⎞\n",
              "⎜──────────────, ──────────────, ──────────────⎟\n",
              "⎝-D₁₂ + F₁ + F₂  -D₁₂ + F₁ + F₂  -D₁₂ + F₁ + F₂⎠"
            ]
          },
          "metadata": {
            "tags": []
          },
          "execution_count": 4
        }
      ]
    },
    {
      "cell_type": "code",
      "metadata": {
        "id": "-sbMkoHiD8zK",
        "colab": {
          "base_uri": "https://localhost:8080/"
        },
        "outputId": "62340689-acff-4e1c-a02b-a79c5db8077f"
      },
      "source": [
        "equivSingleLens([F1,F2],[D12])"
      ],
      "execution_count": 5,
      "outputs": [
        {
          "output_type": "execute_result",
          "data": {
            "text/plain": [
              "{'db': D12*F2/(-D12 + F1 + F2),\n",
              " 'df': D12*F1/(-D12 + F1 + F2),\n",
              " 'feff': F1*F2/(-D12 + F1 + F2)}"
            ]
          },
          "metadata": {
            "tags": []
          },
          "execution_count": 5
        }
      ]
    },
    {
      "cell_type": "code",
      "metadata": {
        "id": "JgrukHfGJKQs",
        "colab": {
          "base_uri": "https://localhost:8080/",
          "height": 40
        },
        "outputId": "5eb598a4-7dd9-49e8-e7ab-a0e3dfe4bbd2"
      },
      "source": [
        "expand(simplify(1/(equivSingleLens([F1,F2],[D12])['feff'])))"
      ],
      "execution_count": 6,
      "outputs": [
        {
          "output_type": "execute_result",
          "data": {
            "image/png": "[encoded data removed]",
            "text/latex": "$$- \\frac{D_{12}}{F_{1} F_{2}} + \\frac{1}{F_{2}} + \\frac{1}{F_{1}}$$",
            "text/plain": [
              "   D₁₂    1    1 \n",
              "- ───── + ── + ──\n",
              "  F₁⋅F₂   F₂   F₁"
            ]
          },
          "metadata": {
            "tags": []
          },
          "execution_count": 6
        }
      ]
    },
    {
      "cell_type": "markdown",
      "metadata": {
        "id": "VtA5w-iYIvSR"
      },
      "source": [
        "## Compute 1/f3L"
      ]
    },
    {
      "cell_type": "code",
      "metadata": {
        "id": "FxBEr5yeEDMy",
        "colab": {
          "base_uri": "https://localhost:8080/",
          "height": 40
        },
        "outputId": "39bc414b-2b0c-4d66-cb89-ecca1b1292ea"
      },
      "source": [
        "expand(simplify(1/(equivSingleLens([F1,F2,F3],[D12,D23])['feff'])))"
      ],
      "execution_count": 7,
      "outputs": [
        {
          "output_type": "execute_result",
          "data": {
            "image/png": "[encoded data removed]",
            "text/latex": "$$\\frac{D_{12} D_{23}}{F_{1} F_{2} F_{3}} - \\frac{D_{12}}{F_{1} F_{3}} - \\frac{D_{12}}{F_{1} F_{2}} - \\frac{D_{23}}{F_{2} F_{3}} - \\frac{D_{23}}{F_{1} F_{3}} + \\frac{1}{F_{3}} + \\frac{1}{F_{2}} + \\frac{1}{F_{1}}$$",
            "text/plain": [
              "D₁₂⋅D₂₃     D₁₂     D₁₂     D₂₃     D₂₃    1    1    1 \n",
              "──────── - ───── - ───── - ───── - ───── + ── + ── + ──\n",
              "F₁⋅F₂⋅F₃   F₁⋅F₃   F₁⋅F₂   F₂⋅F₃   F₁⋅F₃   F₃   F₂   F₁"
            ]
          },
          "metadata": {
            "tags": []
          },
          "execution_count": 7
        }
      ]
    },
    {
      "cell_type": "markdown",
      "metadata": {
        "id": "CMt4kzi3I8wb"
      },
      "source": [
        "## Compute 1/f4L"
      ]
    },
    {
      "cell_type": "code",
      "metadata": {
        "id": "4YWAKk3yEOFg",
        "colab": {
          "base_uri": "https://localhost:8080/",
          "height": 62
        },
        "outputId": "e9245e42-59ad-4e90-8e1f-be67becabbf9"
      },
      "source": [
        "f4L_inv=expand(simplify(1/(equivSingleLens([F1,F2,F3,F4],[D12,D23,D34])['feff'])))\n",
        "f4L_inv"
      ],
      "execution_count": null,
      "outputs": [
        {
          "output_type": "execute_result",
          "data": {
            "image/png": "[encoded data removed]",
            "text/latex": "$$- \\frac{D_{12} D_{23} D_{34}}{F_{1} F_{2} F_{3} F_{4}} + \\frac{D_{12} D_{23}}{F_{1} F_{2} F_{4}} + \\frac{D_{12} D_{23}}{F_{1} F_{2} F_{3}} + \\frac{D_{12} D_{34}}{F_{1} F_{3} F_{4}} + \\frac{D_{12} D_{34}}{F_{1} F_{2} F_{4}} - \\frac{D_{12}}{F_{1} F_{4}} - \\frac{D_{12}}{F_{1} F_{3}} - \\frac{D_{12}}{F_{1} F_{2}} + \\frac{D_{23} D_{34}}{F_{2} F_{3} F_{4}} + \\frac{D_{23} D_{34}}{F_{1} F_{3} F_{4}} - \\frac{D_{23}}{F_{2} F_{4}} - \\frac{D_{23}}{F_{2} F_{3}} - \\frac{D_{23}}{F_{1} F_{4}} - \\frac{D_{23}}{F_{1} F_{3}} - \\frac{D_{34}}{F_{3} F_{4}} - \\frac{D_{34}}{F_{2} F_{4}} - \\frac{D_{34}}{F_{1} F_{4}} + \\frac{1}{F_{4}} + \\frac{1}{F_{3}} + \\frac{1}{F_{2}} + \\frac{1}{F_{1}}$$",
            "text/plain": [
              "  D₁₂⋅D₂₃⋅D₃₄   D₁₂⋅D₂₃    D₁₂⋅D₂₃    D₁₂⋅D₃₄    D₁₂⋅D₃₄     D₁₂     D₁₂     D\n",
              "- ─────────── + ──────── + ──────── + ──────── + ──────── - ───── - ───── - ──\n",
              "  F₁⋅F₂⋅F₃⋅F₄   F₁⋅F₂⋅F₄   F₁⋅F₂⋅F₃   F₁⋅F₃⋅F₄   F₁⋅F₂⋅F₄   F₁⋅F₄   F₁⋅F₃   F₁\n",
              "\n",
              "₁₂    D₂₃⋅D₃₄    D₂₃⋅D₃₄     D₂₃     D₂₃     D₂₃     D₂₃     D₃₄     D₃₄     D\n",
              "─── + ──────── + ──────── - ───── - ───── - ───── - ───── - ───── - ───── - ──\n",
              "⋅F₂   F₂⋅F₃⋅F₄   F₁⋅F₃⋅F₄   F₂⋅F₄   F₂⋅F₃   F₁⋅F₄   F₁⋅F₃   F₃⋅F₄   F₂⋅F₄   F₁\n",
              "\n",
              "₃₄    1    1    1    1 \n",
              "─── + ── + ── + ── + ──\n",
              "⋅F₄   F₄   F₃   F₂   F₁"
            ]
          },
          "metadata": {
            "tags": []
          },
          "execution_count": 8
        }
      ]
    },
    {
      "cell_type": "markdown",
      "metadata": {
        "id": "pc0LA_rtJvA4"
      },
      "source": [
        "Do you see a pattern?\n",
        "\n",
        "The last terms are the reciprocals of each focal length\n",
        "\n",
        "The first term is the product of the distances divided by the product of the focal lengths, with a minus sign for an even number of lenses."
      ]
    },
    {
      "cell_type": "markdown",
      "metadata": {
        "id": "MwLdIMaklIiU"
      },
      "source": [
        "### Compute 1/f4L in a different way\n",
        "\n",
        "The first two and the last two lenses can be separately substituted by their equivalent lens system. The resulting two equivalent lenses with the corresponding separation can be once again merged into one effective lens, as given in the formula of the blog post."
      ]
    },
    {
      "cell_type": "code",
      "metadata": {
        "id": "hkqdzC1RKoyQ",
        "colab": {
          "base_uri": "https://localhost:8080/",
          "height": 62
        },
        "outputId": "2fc39d85-83e3-4dfb-aeb4-9752e20b9943"
      },
      "source": [
        "_, Feff12, DB12 = equivSingleLens_2lenses(F1,D12,F2)\n",
        "DF34, Feff34, _ = equivSingleLens_2lenses(F3,D34,F4)\n",
        "_, Feff1234, _ = equivSingleLens_2lenses(Feff12,DB12+D23+DF34,Feff34)\n",
        "expand(simplify(1/Feff1234))"
      ],
      "execution_count": null,
      "outputs": [
        {
          "output_type": "execute_result",
          "data": {
            "image/png": "[encoded data removed]",
            "text/latex": "$$- \\frac{D_{12} D_{23} D_{34}}{F_{1} F_{2} F_{3} F_{4}} + \\frac{D_{12} D_{23}}{F_{1} F_{2} F_{4}} + \\frac{D_{12} D_{23}}{F_{1} F_{2} F_{3}} + \\frac{D_{12} D_{34}}{F_{1} F_{3} F_{4}} + \\frac{D_{12} D_{34}}{F_{1} F_{2} F_{4}} - \\frac{D_{12}}{F_{1} F_{4}} - \\frac{D_{12}}{F_{1} F_{3}} - \\frac{D_{12}}{F_{1} F_{2}} + \\frac{D_{23} D_{34}}{F_{2} F_{3} F_{4}} + \\frac{D_{23} D_{34}}{F_{1} F_{3} F_{4}} - \\frac{D_{23}}{F_{2} F_{4}} - \\frac{D_{23}}{F_{2} F_{3}} - \\frac{D_{23}}{F_{1} F_{4}} - \\frac{D_{23}}{F_{1} F_{3}} - \\frac{D_{34}}{F_{3} F_{4}} - \\frac{D_{34}}{F_{2} F_{4}} - \\frac{D_{34}}{F_{1} F_{4}} + \\frac{1}{F_{4}} + \\frac{1}{F_{3}} + \\frac{1}{F_{2}} + \\frac{1}{F_{1}}$$",
            "text/plain": [
              "  D₁₂⋅D₂₃⋅D₃₄   D₁₂⋅D₂₃    D₁₂⋅D₂₃    D₁₂⋅D₃₄    D₁₂⋅D₃₄     D₁₂     D₁₂     D\n",
              "- ─────────── + ──────── + ──────── + ──────── + ──────── - ───── - ───── - ──\n",
              "  F₁⋅F₂⋅F₃⋅F₄   F₁⋅F₂⋅F₄   F₁⋅F₂⋅F₃   F₁⋅F₃⋅F₄   F₁⋅F₂⋅F₄   F₁⋅F₄   F₁⋅F₃   F₁\n",
              "\n",
              "₁₂    D₂₃⋅D₃₄    D₂₃⋅D₃₄     D₂₃     D₂₃     D₂₃     D₂₃     D₃₄     D₃₄     D\n",
              "─── + ──────── + ──────── - ───── - ───── - ───── - ───── - ───── - ───── - ──\n",
              "⋅F₂   F₂⋅F₃⋅F₄   F₁⋅F₃⋅F₄   F₂⋅F₄   F₂⋅F₃   F₁⋅F₄   F₁⋅F₃   F₃⋅F₄   F₂⋅F₄   F₁\n",
              "\n",
              "₃₄    1    1    1    1 \n",
              "─── + ── + ── + ── + ──\n",
              "⋅F₄   F₄   F₃   F₂   F₁"
            ]
          },
          "metadata": {
            "tags": []
          },
          "execution_count": 9
        }
      ]
    },
    {
      "cell_type": "markdown",
      "metadata": {
        "id": "qKjMEfCDmCWc"
      },
      "source": [
        "Make sure the two expressions are the same."
      ]
    },
    {
      "cell_type": "code",
      "metadata": {
        "id": "jqAMAhQ2j9Wu",
        "colab": {
          "base_uri": "https://localhost:8080/",
          "height": 37
        },
        "outputId": "7b461b53-b84b-4575-dfbd-bb8a374e8995"
      },
      "source": [
        "simplify(f4L_inv - 1/Feff1234)"
      ],
      "execution_count": null,
      "outputs": [
        {
          "output_type": "execute_result",
          "data": {
            "image/png": "[encoded data removed]",
            "text/latex": "$$0$$",
            "text/plain": [
              "0"
            ]
          },
          "metadata": {
            "tags": []
          },
          "execution_count": 10
        }
      ]
    },
    {
      "cell_type": "markdown",
      "metadata": {
        "id": "hcdmi_5mMzAo"
      },
      "source": [
        "# Numerical examples"
      ]
    },
    {
      "cell_type": "markdown",
      "metadata": {
        "id": "pvKd-f3cNGMf"
      },
      "source": [
        "You have to use consistent units for all parameters"
      ]
    },
    {
      "cell_type": "markdown",
      "metadata": {
        "id": "qRsbQGZ1QtrC"
      },
      "source": [
        "db can be larger than the effective focal length feff. In this case, an incident collimated beam would have a focal point that can't be accessed physically"
      ]
    },
    {
      "cell_type": "code",
      "metadata": {
        "id": "dAdtrtjbk0iN",
        "colab": {
          "base_uri": "https://localhost:8080/",
          "height": 35
        },
        "outputId": "8f468988-2c21-4344-e564-b639bb8f000f"
      },
      "source": [
        "equivSingleLens([100,50,75,150],[10,15,20])"
      ],
      "execution_count": null,
      "outputs": [
        {
          "output_type": "execute_result",
          "data": {
            "text/plain": [
              "{'db': 36.59127625201939, 'df': 21.43241787829833, 'feff': 30.290791599353792}"
            ]
          },
          "metadata": {
            "tags": []
          },
          "execution_count": 31
        }
      ]
    },
    {
      "cell_type": "markdown",
      "metadata": {
        "id": "YuAJRW9MRuiV"
      },
      "source": [
        "Any parameter can be negative. In the equivalent system, a free-space propagation distance can be a negative value. This is effectively the same as a leap backwards from the beam propagation direction."
      ]
    },
    {
      "cell_type": "code",
      "metadata": {
        "id": "WsclZ-wxNhJo",
        "colab": {
          "base_uri": "https://localhost:8080/",
          "height": 72
        },
        "outputId": "3edd86a7-9213-42a9-b036-e822c2af88a4"
      },
      "source": [
        "equivSingleLens([100,-50,75],[10,15])"
      ],
      "execution_count": null,
      "outputs": [
        {
          "output_type": "execute_result",
          "data": {
            "text/plain": [
              "{'db': -3.5714285714285716,\n",
              " 'df': 30.952380952380953,\n",
              " 'feff': 178.57142857142858}"
            ]
          },
          "metadata": {
            "tags": []
          },
          "execution_count": 29
        }
      ]
    },
    {
      "cell_type": "markdown",
      "metadata": {
        "id": "K4qcsk0yDZbu"
      },
      "source": [
        "Concatenated telescopes: Two telescopes. \"eps\" is a dummy variable to avoid infinity in the symbolic calculation. It should be set to 0 at the end."
      ]
    },
    {
      "cell_type": "code",
      "metadata": {
        "id": "iUFuefpxDpa0"
      },
      "source": [
        "eps = symbols('eps')"
      ],
      "execution_count": 24,
      "outputs": []
    },
    {
      "cell_type": "code",
      "metadata": {
        "id": "rkWT-DEnuaEF",
        "outputId": "8675ffd5-5481-49ff-9a81-e3491072ca30",
        "colab": {
          "base_uri": "https://localhost:8080/",
          "height": 40
        }
      },
      "source": [
        "expand(simplify(1/(equivSingleLens([F1,F2,F3],[F1+F2+eps,F2+F3+eps])['feff']))).subs(eps,0)"
      ],
      "execution_count": 27,
      "outputs": [
        {
          "output_type": "execute_result",
          "data": {
            "image/png": "[encoded data removed]",
            "text/latex": "$$- \\frac{F_{2}}{F_{1} F_{3}}$$",
            "text/plain": [
              " -F₂ \n",
              "─────\n",
              "F₁⋅F₃"
            ]
          },
          "metadata": {
            "tags": []
          },
          "execution_count": 27
        }
      ]
    },
    {
      "cell_type": "code",
      "metadata": {
        "id": "eLKWSKsvxA_3"
      },
      "source": [
        ""
      ],
      "execution_count": null,
      "outputs": []
    }
  ]
}