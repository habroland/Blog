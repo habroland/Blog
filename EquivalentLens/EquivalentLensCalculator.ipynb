{
 "cells": [
  {
   "cell_type": "code",
   "execution_count": 9,
   "metadata": {},
   "outputs": [],
   "source": [
    "def equivSingleLens_2lenses(f1,d12,f2):\n",
    "    \"\"\" Calculates the equivalent single-lens system for an array of two lenses\n",
    "    \n",
    "    Arguments:\n",
    "    f1: Focal length of the first lens\n",
    "    d12: Distance between the lenses\n",
    "    f2: Focal length of second lens\n",
    "    \n",
    "    Returns:\n",
    "    df: Front distance (towards f1)\n",
    "    feff: Effective focal length\n",
    "    db: Back distance (towards f2)\n",
    "    \n",
    "    \"\"\"\n",
    "    df = (d12*f1)/(f1+f2-d12)\n",
    "    feff = (f2*f1)/(f1+f2-d12)\n",
    "    db = (d12*f2)/(f1+f2-d12)\n",
    "    \n",
    "    return df, feff, db\n",
    "\n",
    "def equivSingleLens(fls,ds):\n",
    "    \"\"\" Calculates the equivalent single-lens system for an array of lenses\n",
    "    \n",
    "    Arguments:\n",
    "    fls: List of N focal lengths\n",
    "    ds: List of N-1 distances, each one between lenses fi and fi+1\n",
    "    \n",
    "    Returns: Dictionary\n",
    "    df: Front distance (towards f1)\n",
    "    feff: Effective focal length\n",
    "    db: Back distance (towards f2)\n",
    "    \n",
    "    \"\"\"\n",
    "    assert(len(fls) == len(ds)+1)\n",
    "    \n",
    "    df = 0\n",
    "    feff = fls[0]\n",
    "    db = 0\n",
    "    for i in range(len(ds)):\n",
    "        df_temp, feff, db = equivSingleLens_2lenses(feff,db+ds[i],fls[i+1])\n",
    "        print(feff)\n",
    "        df+=df_temp\n",
    "    \n",
    "    return {\"df\":df, \"feff\":feff,\"db\":db}"
   ]
  },
  {
   "cell_type": "code",
   "execution_count": null,
   "metadata": {},
   "outputs": [],
   "source": []
  }
 ],
 "metadata": {
  "kernelspec": {
   "display_name": "Python 3",
   "language": "python",
   "name": "python3"
  },
  "language_info": {
   "codemirror_mode": {
    "name": "ipython",
    "version": 3
   },
   "file_extension": ".py",
   "mimetype": "text/x-python",
   "name": "python",
   "nbconvert_exporter": "python",
   "pygments_lexer": "ipython3",
   "version": "3.6.6"
  }
 },
 "nbformat": 4,
 "nbformat_minor": 2
}
