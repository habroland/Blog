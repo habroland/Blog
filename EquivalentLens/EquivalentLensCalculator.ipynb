{
  "nbformat": 4,
  "nbformat_minor": 0,
  "metadata": {
    "colab": {
      "name": "EquivalentLensCalculator.ipynb",
      "provenance": [],
      "include_colab_link": true
    },
    "kernelspec": {
      "display_name": "Python 3",
      "language": "python",
      "name": "python3"
    },
    "language_info": {
      "codemirror_mode": {
        "name": "ipython",
        "version": 3
      },
      "file_extension": ".py",
      "mimetype": "text/x-python",
      "name": "python",
      "nbconvert_exporter": "python",
      "pygments_lexer": "ipython3",
      "version": "3.7.6"
    }
  },
  "cells": [
    {
      "cell_type": "markdown",
      "metadata": {
        "id": "view-in-github",
        "colab_type": "text"
      },
      "source": [
        "<a href=\"https://colab.research.google.com/github/habroland/Blog/blob/master/EquivalentLens/EquivalentLensCalculator.ipynb\" target=\"_parent\"><img src=\"https://colab.research.google.com/assets/colab-badge.svg\" alt=\"Open In Colab\"/></a>"
      ]
    },
    {
      "cell_type": "markdown",
      "metadata": {
        "id": "tNpvzktXCgR2",
        "colab_type": "text"
      },
      "source": [
        "Equivalent-lens system for an array of lenses. Check this <a href=\"https://underthemath.wordpress.com/2020/05/31/equivalent-lens-system/\">blog</a> for details."
      ]
    },
    {
      "cell_type": "markdown",
      "metadata": {
        "id": "1oz3z5_BGrhd",
        "colab_type": "text"
      },
      "source": [
        "# Functions"
      ]
    },
    {
      "cell_type": "code",
      "metadata": {
        "id": "30OpdGK0BcVL",
        "colab_type": "code",
        "colab": {}
      },
      "source": [
        "def equivSingleLens_2lenses(f1,d12,f2):\n",
        "    \"\"\" Calculates the equivalent single-lens system for an array of two lenses\n",
        "    \n",
        "    Arguments:\n",
        "    f1: Focal length of the first lens\n",
        "    d12: Distance between the lenses\n",
        "    f2: Focal length of second lens\n",
        "    \n",
        "    Returns:\n",
        "    df: Front distance\n",
        "    feff: Effective focal length\n",
        "    db: Back distance\n",
        "    \n",
        "    \"\"\"\n",
        "    df = (d12*f1)/(f1+f2-d12)\n",
        "    feff = (f2*f1)/(f1+f2-d12)\n",
        "    db = (d12*f2)/(f1+f2-d12)\n",
        "    \n",
        "    return df, feff, db\n",
        "\n",
        "def equivSingleLens(fls,ds):\n",
        "    \"\"\" Calculates the equivalent single-lens system for an array of lenses\n",
        "    \n",
        "    Arguments:\n",
        "    fls: List of N focal lengths\n",
        "    ds: List of N-1 distances, each one between lenses f_i and f_(i+1)\n",
        "    \n",
        "    Returns: Dictionary\n",
        "    df: Front distance\n",
        "    feff: Effective focal length\n",
        "    db: Back distance\n",
        "    \n",
        "    \"\"\"\n",
        "    assert(len(fls) == len(ds)+1)\n",
        "    \n",
        "    df = 0\n",
        "    feff = fls[0]\n",
        "    db = 0\n",
        "    for i in range(len(ds)):\n",
        "        df_temp, feff, db = equivSingleLens_2lenses(feff,db+ds[i],fls[i+1])\n",
        "        df+=df_temp\n",
        "    \n",
        "    return {\"df\":df, \"feff\":feff,\"db\":db}"
      ],
      "execution_count": 2,
      "outputs": []
    },
    {
      "cell_type": "markdown",
      "metadata": {
        "id": "qJo7WEgJHA56",
        "colab_type": "text"
      },
      "source": [
        "# Results"
      ]
    },
    {
      "cell_type": "code",
      "metadata": {
        "id": "zwDaqs5ZBcVe",
        "colab_type": "code",
        "colab": {}
      },
      "source": [
        "from sympy import *\n",
        "init_printing()"
      ],
      "execution_count": 17,
      "outputs": []
    },
    {
      "cell_type": "markdown",
      "metadata": {
        "id": "THIgTeK0HODA",
        "colab_type": "text"
      },
      "source": [
        "Four lenses, and the distances between consecutive pairs"
      ]
    },
    {
      "cell_type": "code",
      "metadata": {
        "id": "cJmCMYQGDSAL",
        "colab_type": "code",
        "colab": {}
      },
      "source": [
        "F1, F2, F3, F4 = symbols('F1, F2, F3, F4')\n",
        "D12, D23, D34 = symbols('D12, D23, D34')"
      ],
      "execution_count": 4,
      "outputs": []
    },
    {
      "cell_type": "markdown",
      "metadata": {
        "id": "GdpmdwxRHn5s",
        "colab_type": "text"
      },
      "source": [
        "Test functions"
      ]
    },
    {
      "cell_type": "code",
      "metadata": {
        "id": "no_oKZ5YDwJ3",
        "colab_type": "code",
        "colab": {
          "base_uri": "https://localhost:8080/",
          "height": 48
        },
        "outputId": "a2b7019b-1bc8-43b2-db87-8cdbe442162c"
      },
      "source": [
        "equivSingleLens_2lenses(F1,D12,F2)"
      ],
      "execution_count": 18,
      "outputs": [
        {
          "output_type": "execute_result",
          "data": {
            "image/png": "[encoded data removed]",
            "text/latex": "$$\\left ( \\frac{D_{12} F_{1}}{- D_{12} + F_{1} + F_{2}}, \\quad \\frac{F_{1} F_{2}}{- D_{12} + F_{1} + F_{2}}, \\quad \\frac{D_{12} F_{2}}{- D_{12} + F_{1} + F_{2}}\\right )$$",
            "text/plain": [
              "⎛    D₁₂⋅F₁          F₁⋅F₂           D₁₂⋅F₂    ⎞\n",
              "⎜──────────────, ──────────────, ──────────────⎟\n",
              "⎝-D₁₂ + F₁ + F₂  -D₁₂ + F₁ + F₂  -D₁₂ + F₁ + F₂⎠"
            ]
          },
          "metadata": {
            "tags": []
          },
          "execution_count": 18
        }
      ]
    },
    {
      "cell_type": "code",
      "metadata": {
        "id": "-sbMkoHiD8zK",
        "colab_type": "code",
        "colab": {
          "base_uri": "https://localhost:8080/",
          "height": 72
        },
        "outputId": "afb3f25b-e7a0-4cff-a128-cae8077de0df"
      },
      "source": [
        "equivSingleLens([F1,F2],[D12])"
      ],
      "execution_count": 19,
      "outputs": [
        {
          "output_type": "execute_result",
          "data": {
            "text/plain": [
              "{'db': D12*F2/(-D12 + F1 + F2),\n",
              " 'df': D12*F1/(-D12 + F1 + F2),\n",
              " 'feff': F1*F2/(-D12 + F1 + F2)}"
            ]
          },
          "metadata": {
            "tags": []
          },
          "execution_count": 19
        }
      ]
    },
    {
      "cell_type": "code",
      "metadata": {
        "id": "JgrukHfGJKQs",
        "colab_type": "code",
        "colab": {
          "base_uri": "https://localhost:8080/",
          "height": 40
        },
        "outputId": "f5d62ea5-3ae5-4565-bfcf-109837fae4dc"
      },
      "source": [
        "expand(simplify(1/(equivSingleLens([F1,F2],[D12])['feff'])))"
      ],
      "execution_count": 31,
      "outputs": [
        {
          "output_type": "execute_result",
          "data": {
            "image/png": "[encoded data removed]",
            "text/latex": "$$- \\frac{D_{12}}{F_{1} F_{2}} + \\frac{1}{F_{2}} + \\frac{1}{F_{1}}$$",
            "text/plain": [
              "   D₁₂    1    1 \n",
              "- ───── + ── + ──\n",
              "  F₁⋅F₂   F₂   F₁"
            ]
          },
          "metadata": {
            "tags": []
          },
          "execution_count": 31
        }
      ]
    },
    {
      "cell_type": "markdown",
      "metadata": {
        "id": "VtA5w-iYIvSR",
        "colab_type": "text"
      },
      "source": [
        "Compute 1/f3L"
      ]
    },
    {
      "cell_type": "code",
      "metadata": {
        "id": "FxBEr5yeEDMy",
        "colab_type": "code",
        "colab": {
          "base_uri": "https://localhost:8080/",
          "height": 40
        },
        "outputId": "41921c35-3aa8-468f-d20a-41679878a82d"
      },
      "source": [
        "expand(simplify(1/(equivSingleLens([F1,F2,F3],[D12,D23])['feff'])))"
      ],
      "execution_count": 30,
      "outputs": [
        {
          "output_type": "execute_result",
          "data": {
            "image/png": "[encoded data removed]",
            "text/latex": "$$\\frac{D_{12} D_{23}}{F_{1} F_{2} F_{3}} - \\frac{D_{12}}{F_{1} F_{3}} - \\frac{D_{12}}{F_{1} F_{2}} - \\frac{D_{23}}{F_{2} F_{3}} - \\frac{D_{23}}{F_{1} F_{3}} + \\frac{1}{F_{3}} + \\frac{1}{F_{2}} + \\frac{1}{F_{1}}$$",
            "text/plain": [
              "D₁₂⋅D₂₃     D₁₂     D₁₂     D₂₃     D₂₃    1    1    1 \n",
              "──────── - ───── - ───── - ───── - ───── + ── + ── + ──\n",
              "F₁⋅F₂⋅F₃   F₁⋅F₃   F₁⋅F₂   F₂⋅F₃   F₁⋅F₃   F₃   F₂   F₁"
            ]
          },
          "metadata": {
            "tags": []
          },
          "execution_count": 30
        }
      ]
    },
    {
      "cell_type": "markdown",
      "metadata": {
        "id": "CMt4kzi3I8wb",
        "colab_type": "text"
      },
      "source": [
        "Compute 1/f4L"
      ]
    },
    {
      "cell_type": "code",
      "metadata": {
        "id": "4YWAKk3yEOFg",
        "colab_type": "code",
        "colab": {
          "base_uri": "https://localhost:8080/",
          "height": 62
        },
        "outputId": "30a2626f-0867-4440-de86-231b2fd943d2"
      },
      "source": [
        "expand(simplify(1/(equivSingleLens([F1,F2,F3,F4],[D12,D23,D34])['feff'])))"
      ],
      "execution_count": 29,
      "outputs": [
        {
          "output_type": "execute_result",
          "data": {
            "image/png": "[encoded data removed]",
            "text/latex": "$$- \\frac{D_{12} D_{23} D_{34}}{F_{1} F_{2} F_{3} F_{4}} + \\frac{D_{12} D_{23}}{F_{1} F_{2} F_{4}} + \\frac{D_{12} D_{23}}{F_{1} F_{2} F_{3}} + \\frac{D_{12} D_{34}}{F_{1} F_{3} F_{4}} + \\frac{D_{12} D_{34}}{F_{1} F_{2} F_{4}} - \\frac{D_{12}}{F_{1} F_{4}} - \\frac{D_{12}}{F_{1} F_{3}} - \\frac{D_{12}}{F_{1} F_{2}} + \\frac{D_{23} D_{34}}{F_{2} F_{3} F_{4}} + \\frac{D_{23} D_{34}}{F_{1} F_{3} F_{4}} - \\frac{D_{23}}{F_{2} F_{4}} - \\frac{D_{23}}{F_{2} F_{3}} - \\frac{D_{23}}{F_{1} F_{4}} - \\frac{D_{23}}{F_{1} F_{3}} - \\frac{D_{34}}{F_{3} F_{4}} - \\frac{D_{34}}{F_{2} F_{4}} - \\frac{D_{34}}{F_{1} F_{4}} + \\frac{1}{F_{4}} + \\frac{1}{F_{3}} + \\frac{1}{F_{2}} + \\frac{1}{F_{1}}$$",
            "text/plain": [
              "  D₁₂⋅D₂₃⋅D₃₄   D₁₂⋅D₂₃    D₁₂⋅D₂₃    D₁₂⋅D₃₄    D₁₂⋅D₃₄     D₁₂     D₁₂     D\n",
              "- ─────────── + ──────── + ──────── + ──────── + ──────── - ───── - ───── - ──\n",
              "  F₁⋅F₂⋅F₃⋅F₄   F₁⋅F₂⋅F₄   F₁⋅F₂⋅F₃   F₁⋅F₃⋅F₄   F₁⋅F₂⋅F₄   F₁⋅F₄   F₁⋅F₃   F₁\n",
              "\n",
              "₁₂    D₂₃⋅D₃₄    D₂₃⋅D₃₄     D₂₃     D₂₃     D₂₃     D₂₃     D₃₄     D₃₄     D\n",
              "─── + ──────── + ──────── - ───── - ───── - ───── - ───── - ───── - ───── - ──\n",
              "⋅F₂   F₂⋅F₃⋅F₄   F₁⋅F₃⋅F₄   F₂⋅F₄   F₂⋅F₃   F₁⋅F₄   F₁⋅F₃   F₃⋅F₄   F₂⋅F₄   F₁\n",
              "\n",
              "₃₄    1    1    1    1 \n",
              "─── + ── + ── + ── + ──\n",
              "⋅F₄   F₄   F₃   F₂   F₁"
            ]
          },
          "metadata": {
            "tags": []
          },
          "execution_count": 29
        }
      ]
    },
    {
      "cell_type": "markdown",
      "metadata": {
        "id": "pc0LA_rtJvA4",
        "colab_type": "text"
      },
      "source": [
        "Do you see a pattern?\n",
        "\n",
        "The last terms are the reciprocals of each focal length\n",
        "\n",
        "The first term is the product of the distances divided by the product of the focal lengths, with a minus sign for an even number of lenses."
      ]
    },
    {
      "cell_type": "code",
      "metadata": {
        "id": "hkqdzC1RKoyQ",
        "colab_type": "code",
        "colab": {}
      },
      "source": [
        ""
      ],
      "execution_count": null,
      "outputs": []
    }
  ]
}